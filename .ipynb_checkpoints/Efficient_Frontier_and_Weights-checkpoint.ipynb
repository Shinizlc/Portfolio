{
 "cells": [
  {
   "cell_type": "code",
   "execution_count": 1,
   "metadata": {},
   "outputs": [],
   "source": [
    "import investpy as ipy\n",
    "import pandas as pd\n",
    "import numpy as np\n",
    "from matplotlib import pyplot as plt\n",
    "from math import sqrt\n",
    "from scipy.stats import skew,kurtosis,jarque_bera\n",
    "from scipy.optimize import minimize"
   ]
  },
  {
   "cell_type": "code",
   "execution_count": 2,
   "metadata": {},
   "outputs": [],
   "source": [
    "tickers = ['ADBE','EPAM','FB','INTU','MSFT','NVDA','PYPL']"
   ]
  },
  {
   "cell_type": "code",
   "execution_count": 3,
   "metadata": {},
   "outputs": [],
   "source": [
    "def get_return(tickers:list,start_data:str,end_date:str)->pd.DataFrame:\n",
    "    agg_dataframe = pd.DataFrame()\n",
    "    for ticker in tickers:\n",
    "        data = ipy.get_stock_historical_data(stock=ticker,country='United States',from_date=start_data,to_date=end_date)\n",
    "        agg_dataframe[ticker] = data['Close']\n",
    "    daily_returns = agg_dataframe.pct_change()\n",
    "    daily_returns = daily_returns.dropna()\n",
    "    return (daily_returns,agg_dataframe)"
   ]
  },
  {
   "cell_type": "code",
   "execution_count": 4,
   "metadata": {},
   "outputs": [],
   "source": [
    "returns,data = get_return(tickers,'01/01/2010','12/08/2021')"
   ]
  },
  {
   "cell_type": "code",
   "execution_count": 18,
   "metadata": {},
   "outputs": [],
   "source": [
    "data_mon = data.resample('M').last()"
   ]
  },
  {
   "cell_type": "code",
   "execution_count": 19,
   "metadata": {},
   "outputs": [
    {
     "data": {
      "text/html": [
       "<div>\n",
       "<style scoped>\n",
       "    .dataframe tbody tr th:only-of-type {\n",
       "        vertical-align: middle;\n",
       "    }\n",
       "\n",
       "    .dataframe tbody tr th {\n",
       "        vertical-align: top;\n",
       "    }\n",
       "\n",
       "    .dataframe thead th {\n",
       "        text-align: right;\n",
       "    }\n",
       "</style>\n",
       "<table border=\"1\" class=\"dataframe\">\n",
       "  <thead>\n",
       "    <tr style=\"text-align: right;\">\n",
       "      <th></th>\n",
       "      <th>ADBE</th>\n",
       "      <th>EPAM</th>\n",
       "      <th>FB</th>\n",
       "      <th>INTU</th>\n",
       "      <th>MSFT</th>\n",
       "      <th>NVDA</th>\n",
       "      <th>PYPL</th>\n",
       "    </tr>\n",
       "  </thead>\n",
       "  <tbody>\n",
       "    <tr>\n",
       "      <th>count</th>\n",
       "      <td>6.000000</td>\n",
       "      <td>6.000000</td>\n",
       "      <td>6.000000</td>\n",
       "      <td>6.000000</td>\n",
       "      <td>6.000000</td>\n",
       "      <td>6.000000</td>\n",
       "      <td>6.000000</td>\n",
       "    </tr>\n",
       "    <tr>\n",
       "      <th>mean</th>\n",
       "      <td>0.388617</td>\n",
       "      <td>0.461023</td>\n",
       "      <td>0.266687</td>\n",
       "      <td>0.334378</td>\n",
       "      <td>0.325003</td>\n",
       "      <td>0.874567</td>\n",
       "      <td>0.453615</td>\n",
       "    </tr>\n",
       "    <tr>\n",
       "      <th>std</th>\n",
       "      <td>0.214050</td>\n",
       "      <td>0.409351</td>\n",
       "      <td>0.306912</td>\n",
       "      <td>0.100527</td>\n",
       "      <td>0.156966</td>\n",
       "      <td>0.838966</td>\n",
       "      <td>0.449801</td>\n",
       "    </tr>\n",
       "    <tr>\n",
       "      <th>min</th>\n",
       "      <td>0.095912</td>\n",
       "      <td>-0.182015</td>\n",
       "      <td>-0.257112</td>\n",
       "      <td>0.187668</td>\n",
       "      <td>0.120043</td>\n",
       "      <td>-0.310045</td>\n",
       "      <td>0.090331</td>\n",
       "    </tr>\n",
       "    <tr>\n",
       "      <th>25%</th>\n",
       "      <td>0.274054</td>\n",
       "      <td>0.227525</td>\n",
       "      <td>0.156358</td>\n",
       "      <td>0.268369</td>\n",
       "      <td>0.216295</td>\n",
       "      <td>0.584136</td>\n",
       "      <td>0.149777</td>\n",
       "    </tr>\n",
       "    <tr>\n",
       "      <th>50%</th>\n",
       "      <td>0.374409</td>\n",
       "      <td>0.675212</td>\n",
       "      <td>0.329237</td>\n",
       "      <td>0.353638</td>\n",
       "      <td>0.339777</td>\n",
       "      <td>0.787888</td>\n",
       "      <td>0.229410</td>\n",
       "    </tr>\n",
       "    <tr>\n",
       "      <th>75%</th>\n",
       "      <td>0.501738</td>\n",
       "      <td>0.686772</td>\n",
       "      <td>0.483042</td>\n",
       "      <td>0.404296</td>\n",
       "      <td>0.401942</td>\n",
       "      <td>1.117665</td>\n",
       "      <td>0.720501</td>\n",
       "    </tr>\n",
       "    <tr>\n",
       "      <th>max</th>\n",
       "      <td>0.702186</td>\n",
       "      <td>0.828808</td>\n",
       "      <td>0.565718</td>\n",
       "      <td>0.450197</td>\n",
       "      <td>0.552624</td>\n",
       "      <td>2.237864</td>\n",
       "      <td>1.165110</td>\n",
       "    </tr>\n",
       "  </tbody>\n",
       "</table>\n",
       "</div>"
      ],
      "text/plain": [
       "           ADBE      EPAM        FB      INTU      MSFT      NVDA      PYPL\n",
       "count  6.000000  6.000000  6.000000  6.000000  6.000000  6.000000  6.000000\n",
       "mean   0.388617  0.461023  0.266687  0.334378  0.325003  0.874567  0.453615\n",
       "std    0.214050  0.409351  0.306912  0.100527  0.156966  0.838966  0.449801\n",
       "min    0.095912 -0.182015 -0.257112  0.187668  0.120043 -0.310045  0.090331\n",
       "25%    0.274054  0.227525  0.156358  0.268369  0.216295  0.584136  0.149777\n",
       "50%    0.374409  0.675212  0.329237  0.353638  0.339777  0.787888  0.229410\n",
       "75%    0.501738  0.686772  0.483042  0.404296  0.401942  1.117665  0.720501\n",
       "max    0.702186  0.828808  0.565718  0.450197  0.552624  2.237864  1.165110"
      ]
     },
     "execution_count": 19,
     "metadata": {},
     "output_type": "execute_result"
    }
   ],
   "source": [
    "data_year=data.resample('Y').last().pct_change().dropna()\n",
    "data_year.describe()"
   ]
  },
  {
   "cell_type": "code",
   "execution_count": 20,
   "metadata": {},
   "outputs": [],
   "source": [
    "return_mon = data_mon.pct_change().dropna()\n"
   ]
  },
  {
   "cell_type": "code",
   "execution_count": 21,
   "metadata": {},
   "outputs": [],
   "source": [
    "annualized_return = data_mon.pct_change().dropna()"
   ]
  },
  {
   "cell_type": "code",
   "execution_count": 23,
   "metadata": {},
   "outputs": [],
   "source": [
    "annualized_return = (1+return_mon).prod()**(12/return_mon.shape[0])-1"
   ]
  },
  {
   "cell_type": "code",
   "execution_count": 17,
   "metadata": {},
   "outputs": [
    {
     "data": {
      "text/plain": [
       "ADBE    0.399709\n",
       "EPAM    0.412286\n",
       "FB      0.248629\n",
       "INTU    0.306228\n",
       "MSFT    0.349728\n",
       "NVDA    0.833711\n",
       "PYPL    0.380386\n",
       "dtype: float64"
      ]
     },
     "execution_count": 17,
     "metadata": {},
     "output_type": "execute_result"
    }
   ],
   "source": [
    "annualized_return"
   ]
  },
  {
   "cell_type": "markdown",
   "metadata": {},
   "source": [
    "w1*return_ass1+w2*return_ass2+....wn*return_assn"
   ]
  },
  {
   "cell_type": "code",
   "execution_count": 24,
   "metadata": {},
   "outputs": [],
   "source": [
    "cov_matrix = return_mon.cov()"
   ]
  },
  {
   "cell_type": "code",
   "execution_count": 25,
   "metadata": {},
   "outputs": [
    {
     "data": {
      "text/html": [
       "<div>\n",
       "<style scoped>\n",
       "    .dataframe tbody tr th:only-of-type {\n",
       "        vertical-align: middle;\n",
       "    }\n",
       "\n",
       "    .dataframe tbody tr th {\n",
       "        vertical-align: top;\n",
       "    }\n",
       "\n",
       "    .dataframe thead th {\n",
       "        text-align: right;\n",
       "    }\n",
       "</style>\n",
       "<table border=\"1\" class=\"dataframe\">\n",
       "  <thead>\n",
       "    <tr style=\"text-align: right;\">\n",
       "      <th></th>\n",
       "      <th>ADBE</th>\n",
       "      <th>EPAM</th>\n",
       "      <th>FB</th>\n",
       "      <th>INTU</th>\n",
       "      <th>MSFT</th>\n",
       "      <th>NVDA</th>\n",
       "      <th>PYPL</th>\n",
       "    </tr>\n",
       "  </thead>\n",
       "  <tbody>\n",
       "    <tr>\n",
       "      <th>ADBE</th>\n",
       "      <td>0.003977</td>\n",
       "      <td>0.003091</td>\n",
       "      <td>0.003018</td>\n",
       "      <td>0.002462</td>\n",
       "      <td>0.002465</td>\n",
       "      <td>0.003923</td>\n",
       "      <td>0.002865</td>\n",
       "    </tr>\n",
       "    <tr>\n",
       "      <th>EPAM</th>\n",
       "      <td>0.003091</td>\n",
       "      <td>0.006227</td>\n",
       "      <td>0.003269</td>\n",
       "      <td>0.003140</td>\n",
       "      <td>0.002319</td>\n",
       "      <td>0.003055</td>\n",
       "      <td>0.003036</td>\n",
       "    </tr>\n",
       "    <tr>\n",
       "      <th>FB</th>\n",
       "      <td>0.003018</td>\n",
       "      <td>0.003269</td>\n",
       "      <td>0.006010</td>\n",
       "      <td>0.002295</td>\n",
       "      <td>0.002267</td>\n",
       "      <td>0.003156</td>\n",
       "      <td>0.003275</td>\n",
       "    </tr>\n",
       "    <tr>\n",
       "      <th>INTU</th>\n",
       "      <td>0.002462</td>\n",
       "      <td>0.003140</td>\n",
       "      <td>0.002295</td>\n",
       "      <td>0.004115</td>\n",
       "      <td>0.001994</td>\n",
       "      <td>0.002958</td>\n",
       "      <td>0.002986</td>\n",
       "    </tr>\n",
       "    <tr>\n",
       "      <th>MSFT</th>\n",
       "      <td>0.002465</td>\n",
       "      <td>0.002319</td>\n",
       "      <td>0.002267</td>\n",
       "      <td>0.001994</td>\n",
       "      <td>0.002909</td>\n",
       "      <td>0.003047</td>\n",
       "      <td>0.002319</td>\n",
       "    </tr>\n",
       "    <tr>\n",
       "      <th>NVDA</th>\n",
       "      <td>0.003923</td>\n",
       "      <td>0.003055</td>\n",
       "      <td>0.003156</td>\n",
       "      <td>0.002958</td>\n",
       "      <td>0.003047</td>\n",
       "      <td>0.014451</td>\n",
       "      <td>0.003205</td>\n",
       "    </tr>\n",
       "    <tr>\n",
       "      <th>PYPL</th>\n",
       "      <td>0.002865</td>\n",
       "      <td>0.003036</td>\n",
       "      <td>0.003275</td>\n",
       "      <td>0.002986</td>\n",
       "      <td>0.002319</td>\n",
       "      <td>0.003205</td>\n",
       "      <td>0.006021</td>\n",
       "    </tr>\n",
       "  </tbody>\n",
       "</table>\n",
       "</div>"
      ],
      "text/plain": [
       "          ADBE      EPAM        FB      INTU      MSFT      NVDA      PYPL\n",
       "ADBE  0.003977  0.003091  0.003018  0.002462  0.002465  0.003923  0.002865\n",
       "EPAM  0.003091  0.006227  0.003269  0.003140  0.002319  0.003055  0.003036\n",
       "FB    0.003018  0.003269  0.006010  0.002295  0.002267  0.003156  0.003275\n",
       "INTU  0.002462  0.003140  0.002295  0.004115  0.001994  0.002958  0.002986\n",
       "MSFT  0.002465  0.002319  0.002267  0.001994  0.002909  0.003047  0.002319\n",
       "NVDA  0.003923  0.003055  0.003156  0.002958  0.003047  0.014451  0.003205\n",
       "PYPL  0.002865  0.003036  0.003275  0.002986  0.002319  0.003205  0.006021"
      ]
     },
     "execution_count": 25,
     "metadata": {},
     "output_type": "execute_result"
    }
   ],
   "source": [
    "cov_matrix"
   ]
  },
  {
   "cell_type": "code",
   "execution_count": 26,
   "metadata": {},
   "outputs": [],
   "source": [
    "def portfolio_return(w,an_return):\n",
    "    return w.T @ an_return\n",
    "    "
   ]
  },
  {
   "cell_type": "code",
   "execution_count": 27,
   "metadata": {},
   "outputs": [],
   "source": [
    "def portfolio_var(w,cov_matrix):\n",
    "    return (w.T @ cov_matrix @ w)**0.5\n",
    "\n",
    "# w=np.repeat(1/annualized_return.shape[0],annualized_return.shape[0])\n",
    "# print(portfolio_var(w,cov_matrix,annualized_return))\n",
    "\n"
   ]
  },
  {
   "cell_type": "code",
   "execution_count": null,
   "metadata": {},
   "outputs": [],
   "source": []
  },
  {
   "cell_type": "code",
   "execution_count": 29,
   "metadata": {},
   "outputs": [],
   "source": [
    "\n",
    "def minimize_vol(return_target,an_return,cov_matrix):\n",
    "    initial_guess=np.repeat(1/annualized_return.shape[0],annualized_return.shape[0])\n",
    "    bounds=((0,1),)*annualized_return.shape[0]\n",
    "    is_target={'type':'eq','args':(an_return,),'fun':lambda w,an_return:return_target - portfolio_return(w,an_return)}\n",
    "    sum_w={'type':'eq','fun':lambda w: 1 - np.sum(w)}\n",
    "    const=[sum_w,is_target]\n",
    "    results=minimize(portfolio_var,x0=initial_guess,bounds=bounds,method='SLSQP',constraints=const,options={'disp':False},args=(cov_matrix,))\n",
    "    return results.x\n",
    "\n",
    "\n",
    "\n",
    "\n"
   ]
  },
  {
   "cell_type": "code",
   "execution_count": null,
   "metadata": {},
   "outputs": [],
   "source": []
  },
  {
   "cell_type": "code",
   "execution_count": 69,
   "metadata": {},
   "outputs": [
    {
     "name": "stdout",
     "output_type": "stream",
     "text": [
      "[0.12858408 0.01467955 0.02347763 0.20739856 0.59392436 0.00717042\n",
      " 0.02476539]\n"
     ]
    }
   ],
   "source": [
    "\n",
    "# for target in np.linspace(annualized_return.min(),annualized_return.max(),20):\n",
    "#     print([round(w,2) for w in minimize_vol(target,annualized_return,cov_matrix)])\n",
    "print(minimize_vol(0.35,annualized_return,cov_matrix))\n",
    "\n"
   ]
  },
  {
   "cell_type": "code",
   "execution_count": 67,
   "metadata": {},
   "outputs": [
    {
     "data": {
      "text/plain": [
       "<AxesSubplot:xlabel='vol'>"
      ]
     },
     "execution_count": 67,
     "metadata": {},
     "output_type": "execute_result"
    },
    {
     "data": {
      "image/png": "[encoded data removed]",
      "text/plain": [
       "<Figure size 432x288 with 1 Axes>"
      ]
     },
     "metadata": {
      "needs_background": "light"
     },
     "output_type": "display_data"
    }
   ],
   "source": [
    "ret=[]\n",
    "vol=[]\n",
    "we=[]\n",
    "for target in np.linspace(annualized_return.min(),annualized_return.max(),20):\n",
    "    weights = [round(w,2) for w in minimize_vol(target,annualized_return,cov_matrix)]\n",
    "    weights=np.array(weights)\n",
    "    ret.append(portfolio_return(weights,annualized_return))\n",
    "    vol.append(portfolio_var(weights,cov_matrix))\n",
    "    we=weights\n",
    "pd.DataFrame({'ret':ret,'vol':vol}).plot.line(x='vol',y='ret')\n",
    "\n",
    "\n",
    "\n",
    "    "
   ]
  },
  {
   "cell_type": "code",
   "execution_count": null,
   "metadata": {},
   "outputs": [],
   "source": []
  },
  {
   "cell_type": "code",
   "execution_count": 68,
   "metadata": {},
   "outputs": [
    {
     "name": "stdout",
     "output_type": "stream",
     "text": [
      "[0.0, 0.0, 1.0, 0.0, 0.0, 0.0, 0.0] 0.24847635778598987\n",
      "[0.0, 0.0, 0.51, 0.43, 0.06, 0.0, 0.0] 0.27923917672848847\n",
      "[0.0, 0.0, 0.25, 0.33, 0.42, 0.0, 0.0] 0.31000199567098713\n",
      "[0.09, 0.01, 0.04, 0.25, 0.6, 0.0, 0.02] 0.34076481461348573\n",
      "[0.14, 0.04, 0.0, 0.17, 0.58, 0.04, 0.03] 0.3715276335559844\n",
      "[0.13, 0.07, 0.0, 0.12, 0.54, 0.09, 0.05] 0.402290452498483\n",
      "[0.13, 0.09, 0.0, 0.06, 0.5, 0.15, 0.06] 0.4330532714409816\n",
      "[0.13, 0.12, 0.0, 0.01, 0.46, 0.2, 0.08] 0.46381609038348026\n",
      "[0.1, 0.14, 0.0, 0.0, 0.42, 0.27, 0.08] 0.49457890932597887\n",
      "[0.09, 0.15, 0.0, 0.0, 0.35, 0.33, 0.07] 0.5253417282684775\n",
      "[0.08, 0.17, 0.0, 0.0, 0.29, 0.39, 0.07] 0.5561045472109761\n",
      "[0.06, 0.19, 0.0, 0.0, 0.23, 0.46, 0.06] 0.5868673661534747\n",
      "[0.1, 0.21, 0.0, 0.0, 0.12, 0.51, 0.06] 0.6176301850959733\n",
      "[0.08, 0.22, 0.0, 0.0, 0.07, 0.58, 0.05] 0.648393004038472\n",
      "[0.06, 0.24, 0.0, 0.0, 0.02, 0.64, 0.05] 0.6791558229809707\n",
      "[0.0, 0.24, 0.0, 0.0, 0.0, 0.71, 0.04] 0.7099186419234693\n",
      "[0.0, 0.21, 0.0, 0.0, 0.0, 0.78, 0.0] 0.7406814608659679\n",
      "[0.0, 0.15, 0.0, 0.0, 0.0, 0.85, 0.0] 0.7714442798084665\n",
      "[0.0, 0.07, 0.0, 0.0, 0.0, 0.93, 0.0] 0.8022070987509651\n",
      "[0.0, 0.0, 0.0, 0.0, 0.0, 1.0, 0.0] 0.8329699176934637\n"
     ]
    }
   ],
   "source": [
    "for target in np.linspace(annualized_return.min(),annualized_return.max(),20):\n",
    "    weight = [round(w,2) for w in minimize_vol(target,annualized_return,cov_matrix)]\n",
    "    print(weight,target)"
   ]
  },
  {
   "cell_type": "code",
   "execution_count": 72,
   "metadata": {},
   "outputs": [
    {
     "data": {
      "text/plain": [
       "2319713088000.0"
      ]
     },
     "execution_count": 72,
     "metadata": {},
     "output_type": "execute_result"
    }
   ],
   "source": [
    "(190**4 - 120/0.3)*1780"
   ]
  },
  {
   "cell_type": "code",
   "execution_count": 93,
   "metadata": {},
   "outputs": [
    {
     "name": "stdout",
     "output_type": "stream",
     "text": [
      "range(2, 20)\n"
     ]
    }
   ],
   "source": [
    "print(range(2,20))\n"
   ]
  },
  {
   "cell_type": "code",
   "execution_count": 91,
   "metadata": {},
   "outputs": [
    {
     "data": {
      "text/plain": [
       "range(2, 20)"
      ]
     },
     "execution_count": 91,
     "metadata": {},
     "output_type": "execute_result"
    }
   ],
   "source": [
    "x"
   ]
  },
  {
   "cell_type": "markdown",
   "metadata": {},
   "source": [
    "# TEXT"
   ]
  },
  {
   "cell_type": "code",
   "execution_count": null,
   "metadata": {},
   "outputs": [],
   "source": []
  }
 ],
 "metadata": {
  "kernelspec": {
   "display_name": "Python venv_correct",
   "language": "python",
   "name": "data_science"
  },
  "language_info": {
   "codemirror_mode": {
    "name": "ipython",
    "version": 3
   },
   "file_extension": ".py",
   "mimetype": "text/x-python",
   "name": "python",
   "nbconvert_exporter": "python",
   "pygments_lexer": "ipython3",
   "version": "3.8.6"
  }
 },
 "nbformat": 4,
 "nbformat_minor": 4
}
