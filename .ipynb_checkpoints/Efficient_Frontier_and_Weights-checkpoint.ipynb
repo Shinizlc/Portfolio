{
 "cells": [
  {
   "cell_type": "code",
   "execution_count": 35,
   "metadata": {},
   "outputs": [],
   "source": [
    "import investpy as ipy\n",
    "import pandas as pd\n",
    "import numpy as np\n",
    "from matplotlib import pyplot as plt\n",
    "from math import sqrt\n",
    "import seaborn as sns\n",
    "from scipy.stats import skew,kurtosis,jarque_bera\n",
    "from scipy.optimize import minimize"
   ]
  },
  {
   "cell_type": "code",
   "execution_count": 3,
   "metadata": {},
   "outputs": [],
   "source": [
    "tickers = ['ADBE','EPAM','FB','INTU','MSFT','NVDA','PYPL']"
   ]
  },
  {
   "cell_type": "code",
   "execution_count": 4,
   "metadata": {},
   "outputs": [],
   "source": [
    "def get_return(tickers:list,start_data:str,end_date:str)->pd.DataFrame:\n",
    "    agg_dataframe = pd.DataFrame()\n",
    "    for ticker in tickers:\n",
    "        data = ipy.get_stock_historical_data(stock=ticker,country='United States',from_date=start_data,to_date=end_date)\n",
    "        agg_dataframe[ticker] = data['Close']\n",
    "    daily_returns = agg_dataframe.pct_change()\n",
    "    daily_returns = daily_returns.dropna()\n",
    "    return (daily_returns,agg_dataframe)"
   ]
  },
  {
   "cell_type": "code",
   "execution_count": 5,
   "metadata": {},
   "outputs": [],
   "source": [
    "returns,data = get_return(tickers,'01/01/2010','12/08/2021')"
   ]
  },
  {
   "cell_type": "code",
   "execution_count": 6,
   "metadata": {},
   "outputs": [],
   "source": [
    "data_mon = data.resample('M').last()"
   ]
  },
  {
   "cell_type": "code",
   "execution_count": 37,
   "metadata": {},
   "outputs": [
    {
     "data": {
      "text/plain": [
       "<AxesSubplot:>"
      ]
     },
     "execution_count": 37,
     "metadata": {},
     "output_type": "execute_result"
    },
    {
     "data": {
      "image/png": "[encoded data removed]",
      "text/plain": [
       "<Figure size 432x288 with 1 Axes>"
      ]
     },
     "metadata": {
      "needs_background": "light"
     },
     "output_type": "display_data"
    }
   ],
   "source": [
    "sns.boxplot(data=return_mon)"
   ]
  },
  {
   "cell_type": "code",
   "execution_count": 7,
   "metadata": {},
   "outputs": [],
   "source": [
    "return_mon = data_mon.pct_change().dropna()\n",
    "\n"
   ]
  },
  {
   "cell_type": "code",
   "execution_count": 50,
   "metadata": {},
   "outputs": [],
   "source": [
    "def annualized_stock_return(data):\n",
    "        return (1+data).prod()**(12/data.shape[0])-1"
   ]
  },
  {
   "cell_type": "code",
   "execution_count": 51,
   "metadata": {},
   "outputs": [],
   "source": [
    "def annualized_stock_volatility(data):\n",
    "        return data.std()*sqrt(12)\n"
   ]
  },
  {
   "cell_type": "code",
   "execution_count": 52,
   "metadata": {},
   "outputs": [
    {
     "data": {
      "text/plain": [
       "ADBE    0.399800\n",
       "EPAM    0.411052\n",
       "FB      0.248476\n",
       "INTU    0.306112\n",
       "MSFT    0.349966\n",
       "NVDA    0.832970\n",
       "PYPL    0.380022\n",
       "dtype: float64"
      ]
     },
     "execution_count": 52,
     "metadata": {},
     "output_type": "execute_result"
    }
   ],
   "source": [
    "annualized_stock_return(return_mon)"
   ]
  },
  {
   "cell_type": "code",
   "execution_count": 53,
   "metadata": {},
   "outputs": [
    {
     "data": {
      "text/plain": [
       "ADBE    0.218463\n",
       "EPAM    0.273347\n",
       "FB      0.268551\n",
       "INTU    0.222206\n",
       "MSFT    0.186829\n",
       "NVDA    0.416429\n",
       "PYPL    0.268792\n",
       "dtype: float64"
      ]
     },
     "execution_count": 53,
     "metadata": {},
     "output_type": "execute_result"
    }
   ],
   "source": [
    "\n",
    "annualized_stock_volatility(return_mon)"
   ]
  },
  {
   "cell_type": "markdown",
   "metadata": {},
   "source": [
    "# Risk/Ruturn Ratios"
   ]
  },
  {
   "cell_type": "markdown",
   "metadata": {},
   "source": [
    "## Sharpe Ratio"
   ]
  },
  {
   "cell_type": "code",
   "execution_count": 20,
   "metadata": {},
   "outputs": [
    {
     "data": {
      "text/plain": [
       "ADBE    1.372312\n",
       "EPAM    1.137938\n",
       "FB      0.552881\n",
       "INTU    0.927571\n",
       "MSFT    1.337939\n",
       "NVDA    1.760130\n",
       "PYPL    1.041780\n",
       "dtype: float64"
      ]
     },
     "execution_count": 20,
     "metadata": {},
     "output_type": "execute_result"
    }
   ],
   "source": [
    "def sharpe_ratio(data,free_rate=0.1):\n",
    "    return (annualized_stock_return(data)-free_rate)/annualized_stock_volatility(data)\n",
    "sharpe_ratio(return_mon)"
   ]
  },
  {
   "cell_type": "markdown",
   "metadata": {},
   "source": [
    "## Sortino ratio"
   ]
  },
  {
   "cell_type": "code",
   "execution_count": 30,
   "metadata": {},
   "outputs": [],
   "source": [
    "def semidiviation(data):\n",
    "    return data[data<0].std()*sqrt(12)\n"
   ]
  },
  {
   "cell_type": "code",
   "execution_count": 28,
   "metadata": {},
   "outputs": [],
   "source": [
    "def sortino_ratio(data,free_rate=0.1):\n",
    "    return (annualized_stock_return(data)-free_rate)/semidiviation(data)"
   ]
  },
  {
   "cell_type": "code",
   "execution_count": 31,
   "metadata": {},
   "outputs": [
    {
     "data": {
      "text/plain": [
       "ADBE    3.079520\n",
       "EPAM    1.946273\n",
       "FB      1.169404\n",
       "INTU    1.342542\n",
       "MSFT    2.389018\n",
       "NVDA    2.593484\n",
       "PYPL    2.667482\n",
       "dtype: float64"
      ]
     },
     "execution_count": 31,
     "metadata": {},
     "output_type": "execute_result"
    }
   ],
   "source": [
    "sortino_ratio(return_mon)"
   ]
  },
  {
   "cell_type": "markdown",
   "metadata": {},
   "source": [
    "## Calmar Ratio "
   ]
  },
  {
   "cell_type": "code",
   "execution_count": 41,
   "metadata": {},
   "outputs": [
    {
     "data": {
      "image/png": "[encoded data removed]",
      "text/plain": [
       "<Figure size 432x288 with 1 Axes>"
      ]
     },
     "metadata": {
      "needs_background": "light"
     },
     "output_type": "display_data"
    }
   ],
   "source": [
    "WI = 100*(1+return_mon).cumprod() -1\n",
    "pl =WI.plot()\n"
   ]
  },
  {
   "cell_type": "code",
   "execution_count": 48,
   "metadata": {},
   "outputs": [
    {
     "data": {
      "text/plain": [
       "ADBE    0.162412\n",
       "EPAM    0.189326\n",
       "FB      0.326973\n",
       "INTU    0.203131\n",
       "MSFT    0.112376\n",
       "NVDA    0.525213\n",
       "PYPL    0.164105\n",
       "dtype: float64"
      ]
     },
     "execution_count": 48,
     "metadata": {},
     "output_type": "execute_result"
    }
   ],
   "source": [
    "peaks = WI.cummax()\n",
    "drawdown = (WI-peaks)/peaks\n",
    "-drawdown.min()"
   ]
  },
  {
   "cell_type": "code",
   "execution_count": 49,
   "metadata": {},
   "outputs": [
    {
     "data": {
      "text/plain": [
       "ADBE    2.461638\n",
       "EPAM    2.171137\n",
       "FB      0.759929\n",
       "INTU    1.506967\n",
       "MSFT    3.114229\n",
       "NVDA    1.585966\n",
       "PYPL    2.315720\n",
       "dtype: float64"
      ]
     },
     "execution_count": 49,
     "metadata": {},
     "output_type": "execute_result"
    }
   ],
   "source": [
    "calmar_ratio=annualized_stock_return(return_mon)/-drawdown.min()\n",
    "calmar_ratio"
   ]
  },
  {
   "cell_type": "markdown",
   "metadata": {},
   "source": [
    "# Portfolio calculation"
   ]
  },
  {
   "cell_type": "code",
   "execution_count": null,
   "metadata": {},
   "outputs": [],
   "source": [
    "cov_matrix = return_mon.cov()"
   ]
  },
  {
   "cell_type": "code",
   "execution_count": null,
   "metadata": {},
   "outputs": [],
   "source": [
    "cov_matrix"
   ]
  },
  {
   "cell_type": "code",
   "execution_count": null,
   "metadata": {},
   "outputs": [],
   "source": [
    "def portfolio_return(w,an_return):\n",
    "    return w.T @ an_return\n",
    "    "
   ]
  },
  {
   "cell_type": "code",
   "execution_count": null,
   "metadata": {},
   "outputs": [],
   "source": [
    "def portfolio_var(w,cov_matrix):\n",
    "    return (w.T @ cov_matrix @ w)**0.5\n",
    "\n",
    "# w=np.repeat(1/annualized_return.shape[0],annualized_return.shape[0])\n",
    "# print(portfolio_var(w,cov_matrix,annualized_return))\n",
    "\n"
   ]
  },
  {
   "cell_type": "code",
   "execution_count": null,
   "metadata": {},
   "outputs": [],
   "source": []
  },
  {
   "cell_type": "code",
   "execution_count": null,
   "metadata": {},
   "outputs": [],
   "source": [
    "\n",
    "def minimize_vol(return_target,an_return,cov_matrix):\n",
    "    initial_guess=np.repeat(1/annualized_return.shape[0],annualized_return.shape[0])\n",
    "    bounds=((0,1),)*annualized_return.shape[0]\n",
    "    is_target={'type':'eq','args':(an_return,),'fun':lambda w,an_return:return_target - portfolio_return(w,an_return)}\n",
    "    sum_w={'type':'eq','fun':lambda w: 1 - np.sum(w)}\n",
    "    const=[sum_w,is_target]\n",
    "    results=minimize(portfolio_var,x0=initial_guess,bounds=bounds,method='SLSQP',constraints=const,options={'disp':False},args=(cov_matrix,))\n",
    "    return results.x\n",
    "\n",
    "\n",
    "\n",
    "\n"
   ]
  },
  {
   "cell_type": "code",
   "execution_count": null,
   "metadata": {},
   "outputs": [],
   "source": []
  },
  {
   "cell_type": "code",
   "execution_count": null,
   "metadata": {},
   "outputs": [],
   "source": [
    "\n",
    "# for target in np.linspace(annualized_return.min(),annualized_return.max(),20):\n",
    "#     print([round(w,2) for w in minimize_vol(target,annualized_return,cov_matrix)])\n",
    "print(minimize_vol(0.35,annualized_return,cov_matrix))\n",
    "\n"
   ]
  },
  {
   "cell_type": "code",
   "execution_count": null,
   "metadata": {},
   "outputs": [],
   "source": [
    "ret=[]\n",
    "vol=[]\n",
    "we=[]\n",
    "for target in np.linspace(annualized_return.min(),annualized_return.max(),20):\n",
    "    weights = [round(w,2) for w in minimize_vol(target,annualized_return,cov_matrix)]\n",
    "    weights=np.array(weights)\n",
    "    ret.append(portfolio_return(weights,annualized_return))\n",
    "    vol.append(portfolio_var(weights,cov_matrix))\n",
    "    we=weights\n",
    "pd.DataFrame({'ret':ret,'vol':vol}).plot.line(x='vol',y='ret')\n",
    "\n",
    "\n",
    "\n",
    "    "
   ]
  },
  {
   "cell_type": "code",
   "execution_count": null,
   "metadata": {},
   "outputs": [],
   "source": [
    "for target in np.linspace(annualized_return.min(),annualized_return.max(),20):\n",
    "    weight = [round(w,2) for w in minimize_vol(target,annualized_return,cov_matrix)]\n",
    "    print(weight,target)"
   ]
  },
  {
   "cell_type": "code",
   "execution_count": null,
   "metadata": {},
   "outputs": [],
   "source": []
  }
 ],
 "metadata": {
  "kernelspec": {
   "display_name": "Python venv_correct",
   "language": "python",
   "name": "data_science"
  },
  "language_info": {
   "codemirror_mode": {
    "name": "ipython",
    "version": 3
   },
   "file_extension": ".py",
   "mimetype": "text/x-python",
   "name": "python",
   "nbconvert_exporter": "python",
   "pygments_lexer": "ipython3",
   "version": "3.8.6"
  }
 },
 "nbformat": 4,
 "nbformat_minor": 4
}
